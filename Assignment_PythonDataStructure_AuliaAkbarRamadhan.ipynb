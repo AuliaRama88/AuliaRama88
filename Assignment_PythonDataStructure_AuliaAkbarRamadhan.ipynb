{
  "cells": [
    {
      "cell_type": "markdown",
      "id": "831f1768",
      "metadata": {
        "id": "831f1768"
      },
      "source": [
        "# Homework Data Type and Structure Python"
      ]
    },
    {
      "cell_type": "markdown",
      "id": "e181324f",
      "metadata": {
        "id": "e181324f"
      },
      "source": [
        "- Nama: Aulia Akbar Ramadhan\n",
        "- IPK / Nilai Rapot: 3.85\n",
        "\n",
        "Catatan:\n",
        "1. Boleh google, YOLO apalagi biar ada gregetnya\n",
        "2. Boleh dikerjakan sambil makan, push rank, skripsian, tesis, disertasi, nonton spiderman no way home, mengendarai pesawat terbang, terbang kebulan, tapi ga boleh dikerjakan sama mantan.\n",
        "3. Kalau mau nyontek, `main rapih ya`, kalau ketauan jawabannya sama persis / similarity score > 80%, dua-duanya mendapatkan nilai 0 (Udah banyak korban di batch-batch sebelumnya)\n",
        "4. Mohon ganti nama file sebagaimana mestinya, sesuai EYD dan tata penulisan yang diakui multiverse"
      ]
    },
    {
      "cell_type": "markdown",
      "id": "8546b5b2",
      "metadata": {
        "id": "8546b5b2"
      },
      "source": [
        "## 1. Code Refactoring (40 pts)\n",
        "\n",
        "> Ubah code dibawah ini menjadi bahasa python, kemudian outputnya juga harus sesuai ya.\n",
        "\n",
        "\n",
        "```\n",
        "scores <- 75\n",
        "standard_score <- 70\n",
        "lower_bound <- 5\n",
        "upper_bound <- 10\n",
        "\n",
        "if ((standard_score - lower_bound < scores)&&(standard_score + upper_bound > scores)) {\n",
        "    bonus <- c(50,40,30,20,50)\n",
        "    cat(\"Congratulation, you passed the test with score:\", scores)\n",
        "    cat(\"\\n\")\n",
        "    cat(\"Your bonus ($):\", sum(bonus))\n",
        "} else {\n",
        "    bonus <- c(10,20,30,40,5)\n",
        "    cat(\"Unfortunately, you failed the test with score:\", scores)\n",
        "    cat(\"\\n\")\n",
        "    cat(\"Your bonus ($):\", sum(bonus))\n",
        "}\n",
        "```\n",
        "\n",
        "Ekspektasi jawaban:\n",
        "\n",
        "1. Jika `scores <- 75` maka:\n",
        "```\n",
        "Congratulation, you passed the test with score: 75\n",
        "Your bonus ($): 190\n",
        "```\n",
        "2. Jika `scores <- 50` maka: \n",
        "```\n",
        "Unfortunately, you failed the test with score: 50\n",
        "Your bonus ($): 105\n",
        "```"
      ]
    },
    {
      "cell_type": "code",
      "execution_count": null,
      "id": "b49e600a",
      "metadata": {
        "id": "b49e600a",
        "outputId": "370804c7-c336-4b6f-b292-5533bf6413bb",
        "colab": {
          "base_uri": "https://localhost:8080/"
        }
      },
      "outputs": [
        {
          "output_type": "stream",
          "name": "stdout",
          "text": [
            "Congratulation, you passed the test with score: 75\n",
            "\n",
            "\n",
            "Your bonus ($): 190\n"
          ]
        }
      ],
      "source": [
        "# Ketik jawaban nomor 1 dibawah ini\n",
        "scores = 75\n",
        "standard_score = 70\n",
        "lower_bound = 5\n",
        "upper_bound = 10\n",
        "\n",
        "if (standard_score - lower_bound < scores) and (standard_score + upper_bound > scores):\n",
        "    bonus =[50,40,30,20,50]\n",
        "    print(\"Congratulation, you passed the test with score:\", scores)\n",
        "    print(\"\\n\")\n",
        "    print(\"Your bonus ($):\", sum(bonus))\n",
        "else:\n",
        "    bonus= [10,20,30,40,5]\n",
        "    print(\"Unfortunately, you failed the test with score:\", scores)\n",
        "    print(\"\\n\")\n",
        "    print(\"Your bonus ($):\", sum(bonus))"
      ]
    },
    {
      "cell_type": "code",
      "source": [
        "# Ketik jawaban nomor 1 dibawah ini\n",
        "scores = 50\n",
        "standard_score = 70\n",
        "lower_bound = 5\n",
        "upper_bound = 10\n",
        "\n",
        "if (standard_score - lower_bound < scores) and (standard_score + upper_bound > scores):\n",
        "    bonus =[50,40,30,20,50]\n",
        "    print(\"Congratulation, you passed the test with score:\", scores)\n",
        "    print(\"\\n\")\n",
        "    print(\"Your bonus ($):\", sum(bonus))\n",
        "else:\n",
        "    bonus= [10,20,30,40,5]\n",
        "    print(\"Unfortunately, you failed the test with score:\", scores)\n",
        "    print(\"\\n\")\n",
        "    print(\"Your bonus ($):\", sum(bonus))"
      ],
      "metadata": {
        "id": "kJR6w4mPZFBw",
        "outputId": "745e38e9-11eb-48e1-a6e5-912630861ad4",
        "colab": {
          "base_uri": "https://localhost:8080/"
        }
      },
      "id": "kJR6w4mPZFBw",
      "execution_count": null,
      "outputs": [
        {
          "output_type": "stream",
          "name": "stdout",
          "text": [
            "Unfortunately, you failed the test with score: 50\n",
            "\n",
            "\n",
            "Your bonus ($): 105\n"
          ]
        }
      ]
    },
    {
      "cell_type": "markdown",
      "id": "7c9f0c39",
      "metadata": {
        "id": "7c9f0c39"
      },
      "source": [
        "## 2. List Operations (40 pts)\n",
        "\n",
        "> Kamu diberikan satu set data total penjualan bulanan pada tahun 2021 dari bulan januari hingga november. Bantulah hitung berapa (1) rata-rata perbulan, (2) bulan dengan penjualan terendah, (3) bulan dengan penjualan tertinggi, dan (4) bulan dengan nilai transaksi diatas rata-rata penjualan perbulan\n",
        "\n",
        "```\n",
        "# Indeks 0 = Januari, indeks 1 = Februari, ..., indeks terakhir = November (Berurutan)\n",
        "total_penjualan = [293,161,313,251,634,385,175,375,642,442,500]\n",
        "```\n",
        "\n",
        "- Ada 4 bulir soal, masing-masing 10 point jika benar"
      ]
    },
    {
      "cell_type": "code",
      "execution_count": null,
      "id": "89dba278",
      "metadata": {
        "id": "89dba278",
        "outputId": "e5a8d39a-64d2-4481-f388-dae2c69bf710",
        "colab": {
          "base_uri": "https://localhost:8080/"
        }
      },
      "outputs": [
        {
          "output_type": "stream",
          "name": "stdout",
          "text": [
            "rata-rata perbulan 379.1818181818182\n",
            "penjualan terendah adalah sebesar 161\n",
            "penjualan tertinggi adalah sebesar 642\n",
            "Total Penjualan diatas rata-rata adalah: \n",
            "634\n",
            "385\n",
            "642\n",
            "442\n",
            "500\n"
          ]
        }
      ],
      "source": [
        "# Ketik jawaban nomor 2 dibawah ini\n",
        "total_penjualan=[293,161,313,251,634,385,175,375,642,442,500]\n",
        "n=len(total_penjualan)\n",
        "avrg=sum(total_penjualan)/n\n",
        "mini=min(total_penjualan)\n",
        "maks=max(total_penjualan)\n",
        "print(\"rata-rata perbulan\",avrg)\n",
        "print(\"penjualan terendah adalah sebesar\",mini)\n",
        "print(\"penjualan tertinggi adalah sebesar\",maks)\n",
        "print(\"Total Penjualan diatas rata-rata adalah: \")\n",
        "for x in total_penjualan:\n",
        "  if x>sum(total_penjualan)/n:\n",
        "      print(x)\n",
        "\n"
      ]
    },
    {
      "cell_type": "markdown",
      "source": [
        "rata-rata penjualan perbulannya adalah 379.182. Bulan dengan penjualan terendah adalah bulan Februari dengan total penjualannya adalah sebesar 161. Sedangkan bulan dengan total penjualan tertinggi adalah bulan September dengan total penjualan sebesar 642. Bulan dengan penjualan diatas rata-rata adalah bulan Mei, Juni, September, Oktober, November. "
      ],
      "metadata": {
        "id": "YWHMKbRYpbim"
      },
      "id": "YWHMKbRYpbim"
    },
    {
      "cell_type": "markdown",
      "id": "b9dab4bc",
      "metadata": {
        "id": "b9dab4bc"
      },
      "source": [
        "## 3. Dictionary Operations (20 pts)\n",
        "\n",
        "> Gunakan manipulasi dictionary agar merubah variabel dictionary dari sebelum menjadi sesudah seperti dibawah\n",
        "\n",
        "```\n",
        "Before: {'name': ['thur', 'spidolman', 'dr.Weird'], 'gpa': [3.85, 3.66, 4.0], 'invoice_type': 'marketplace'}\n",
        "\n",
        "After: {'name': ['thur', 'spidolman', 'dr.Weird', 'Iron Woman'], 'avg_gpa': 3.8366666666666664, 'invoice_types': ['marketplace', 'virtual product']}\n",
        "```\n",
        "\n",
        "- Gunakan data dari dictionary pertama (before) yang nilai-nilainya bisa diolah sehingga menjadi dictionary kedua (after)"
      ]
    },
    {
      "cell_type": "code",
      "execution_count": null,
      "id": "d1e8a8fd",
      "metadata": {
        "id": "d1e8a8fd",
        "colab": {
          "base_uri": "https://localhost:8080/"
        },
        "outputId": "b1b9ae4f-50c6-452b-d33e-1951aaec3b0a"
      },
      "outputs": [
        {
          "output_type": "execute_result",
          "data": {
            "text/plain": [
              "{'gpa': [3.85, 3.66, 4.0],\n",
              " 'invoice_type': 'marketplace',\n",
              " 'name': ['thur', 'spidolman', 'dr.Weird']}"
            ]
          },
          "metadata": {},
          "execution_count": 4
        }
      ],
      "source": [
        "# Ketik jawaban nomor 3 dibawah ini\n",
        "dicta={}\n",
        "dicta={'name': ['thur', 'spidolman', 'dr.Weird'], 'gpa': [3.85, 3.66, 4.0], 'invoice_type': 'marketplace'}\n",
        "dicta"
      ]
    },
    {
      "cell_type": "code",
      "source": [
        "dicta['avg_gpa']=sum(dicta['gpa'])/3\n",
        "dicta['name']= ['thur', 'spidolman', 'dr.Weird','Iron Woman']\n",
        "dicta['invoice_type']=['marketplace', 'virtual product']\n",
        "del dicta['gpa']\n",
        "dicta"
      ],
      "metadata": {
        "colab": {
          "base_uri": "https://localhost:8080/"
        },
        "id": "6HMkTyYVcLiN",
        "outputId": "7cb83c7b-884c-4a9a-b102-62f0fadbae15"
      },
      "id": "6HMkTyYVcLiN",
      "execution_count": null,
      "outputs": [
        {
          "output_type": "execute_result",
          "data": {
            "text/plain": [
              "{'avg_gpa': 3.8366666666666664,\n",
              " 'invoice_type': ['marketplace', 'virtual product'],\n",
              " 'name': ['thur', 'spidolman', 'dr.Weird', 'Iron Woman']}"
            ]
          },
          "metadata": {},
          "execution_count": 5
        }
      ]
    },
    {
      "cell_type": "markdown",
      "id": "78b038c7",
      "metadata": {
        "id": "78b038c7"
      },
      "source": [
        "# Semangat!"
      ]
    }
  ],
  "metadata": {
    "kernelspec": {
      "display_name": "Python 3 (ipykernel)",
      "language": "python",
      "name": "python3"
    },
    "language_info": {
      "codemirror_mode": {
        "name": "ipython",
        "version": 3
      },
      "file_extension": ".py",
      "mimetype": "text/x-python",
      "name": "python",
      "nbconvert_exporter": "python",
      "pygments_lexer": "ipython3",
      "version": "3.9.7"
    },
    "colab": {
      "name": "Assignment_PythonDataStructure_AuliaAkbarRamadhan.ipynb",
      "provenance": [],
      "collapsed_sections": []
    }
  },
  "nbformat": 4,
  "nbformat_minor": 5
}